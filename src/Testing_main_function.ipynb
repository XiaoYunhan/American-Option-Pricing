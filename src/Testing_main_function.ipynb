{
 "cells": [
  {
   "cell_type": "code",
   "execution_count": 8,
   "metadata": {},
   "outputs": [],
   "source": [
    "from src.dq_plus import AmericanOptionPricing\n",
    "from src.Option import OptionType\n"
   ]
  },
  {
   "cell_type": "code",
   "execution_count": 14,
   "metadata": {},
   "outputs": [],
   "source": [
    "test1 = AmericanOptionPricing(100, 0.025, 0.025, 0.25, 1, 5, 5,option_type=OptionType.Put,eta=0.05)"
   ]
  },
  {
   "cell_type": "code",
   "execution_count": 15,
   "metadata": {},
   "outputs": [
    {
     "name": "stdout",
     "output_type": "stream",
     "text": [
      "Jacobi-Newton iterations completed.\n",
      "[ 68.2961363   70.45696155  77.11038039  88.25427045 101.80761938\n",
      " 100.        ]\n"
     ]
    }
   ],
   "source": [
    "test1.run_once()"
   ]
  },
  {
   "cell_type": "code",
   "execution_count": 18,
   "metadata": {},
   "outputs": [
    {
     "name": "stdout",
     "output_type": "stream",
     "text": [
      "Jacobi-Newton iterations completed.\n",
      "[ 75.12574993  77.5026577   84.82141843  97.0796975  111.98838131\n",
      " 100.        ]\n"
     ]
    }
   ],
   "source": [
    "test1.manual_update()"
   ]
  },
  {
   "cell_type": "code",
   "execution_count": 19,
   "metadata": {},
   "outputs": [
    {
     "name": "stdout",
     "output_type": "stream",
     "text": [
      "Jacobi-Newton iterations completed.\n",
      "[ 82.63832493  85.25292348  93.30356028 106.78766725 123.18721945\n",
      " 100.        ]\n"
     ]
    }
   ],
   "source": [
    "test1.manual_update()"
   ]
  }
 ],
 "metadata": {
  "kernelspec": {
   "display_name": "Python 3",
   "language": "python",
   "name": "python3"
  },
  "language_info": {
   "codemirror_mode": {
    "name": "ipython",
    "version": 3
   },
   "file_extension": ".py",
   "mimetype": "text/x-python",
   "name": "python",
   "nbconvert_exporter": "python",
   "pygments_lexer": "ipython3",
   "version": "3.10.11"
  }
 },
 "nbformat": 4,
 "nbformat_minor": 2
}
