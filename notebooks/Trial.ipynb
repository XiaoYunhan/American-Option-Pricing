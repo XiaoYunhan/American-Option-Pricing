{
 "cells": [
  {
   "cell_type": "code",
   "execution_count": 173,
   "metadata": {},
   "outputs": [],
   "source": [
    "import numpy as np\n",
    "from scipy.interpolate import BarycentricInterpolator\n",
    "from scipy.integrate import quad\n",
    "from chebyshev_interpolator import ChebyshevInterpolator\n",
    "from Option import OptionType\n",
    "from quadrature_nodes import QuadratureNodes\n",
    "from QDPlus import QDplus"
   ]
  },
  {
   "cell_type": "code",
   "execution_count": 174,
   "metadata": {},
   "outputs": [],
   "source": [
    "## Define Variables to being with\n",
    "l = 5\n",
    "n =5\n",
    "max_tau =1 \n",
    "strike = 100\n",
    "riskfree = 0.025\n",
    "dividend = 0.025\n",
    "volatility = 0.25\n",
    "option_type = OptionType.Put\n",
    "X = strike*min(1,riskfree/dividend)\n"
   ]
  },
  {
   "cell_type": "code",
   "execution_count": null,
   "metadata": {},
   "outputs": [
    {
     "data": {
      "text/plain": [
       "array([0.        , 0.00911863, 0.11936438, 0.42838137, 0.81813562,\n",
       "       1.        ])"
      ]
     },
     "execution_count": 175,
     "metadata": {},
     "output_type": "execute_result"
    }
   ],
   "source": [
    "## 1. Obtain Chebyshev nodes to begin\n",
    "cheby = ChebyshevInterpolator(n,1)\n",
    "cheby.compute_nodes()\n",
    "tau_nodes = cheby.get_nodes()[1]\n",
    "\n",
    "## Fill up rest of the variables\n",
    "initial_boundary = np.zeros(n+1)\n",
    "\n",
    "## print tau_nodes\n",
    "tau_nodes"
   ]
  },
  {
   "cell_type": "code",
   "execution_count": 176,
   "metadata": {},
   "outputs": [],
   "source": [
    "## 2. compute the Quadrature nodes and weights\n",
    "quadrature = QuadratureNodes(l)\n",
    "quadrature.compute_legendre_nodes()\n",
    "y_nodes, w_weights = quadrature.get_nodes_and_weights()"
   ]
  },
  {
   "cell_type": "code",
   "execution_count": 296,
   "metadata": {},
   "outputs": [
    {
     "name": "stdout",
     "output_type": "stream",
     "text": [
      "[-1.         -0.80901699 -0.30901699  0.30901699  0.80901699  1.        ]\n",
      "[0.         0.00911863 0.11936438 0.42838137 0.81813562 1.        ]\n",
      "[100.          92.55238125  80.23115496  70.10034581  64.05178323\n",
      "  62.08739664]\n"
     ]
    }
   ],
   "source": [
    "## 3. compute initial boundary using QD Plus\n",
    "a=QDplus(riskfree, dividend, volatility, strike, option_type)\n",
    "for i in range(len(tau_nodes)):\n",
    "    initial_boundary[i] = a.compute_exercise_boundary(tau_nodes[i])\n",
    "\n",
    "## print intial_boundary\n",
    "print(cheby.z_nodes)\n",
    "print(tau_nodes)\n",
    "print(initial_boundary)"
   ]
  },
  {
   "cell_type": "code",
   "execution_count": null,
   "metadata": {},
   "outputs": [],
   "source": [
    "## compute q(_initial_boundary), since H_x = q_z \n",
    "def B_to_q(_initial_boundary):\n",
    "    \"\"\"\n",
    "    Compute H(sqrt(tau)) for each collocation point based on the previous boundary values.\n",
    "\n",
    "    Returns:\n",
    "    - H_values (numpy array): The computed H(sqrt(tau)) values.\n",
    "    \"\"\"\n",
    "    q_values = (np.log(_initial_boundary / X)) ** 2 \n",
    "\n",
    "    return q_values\n",
    "\n",
    "## compute b(_q_values) to obtain the reverse \n",
    "def q_to_B(_q_values):\n",
    "    \"\"\"\n",
    "    Given that H_values = q\n",
    "    From q/H_values calculate B\n",
    "\n",
    "    Returns:\n",
    "    - B_values (numpy array): The computed B(tau) values.\n",
    "    \"\"\"\n",
    "    B_values = np.zeros(len(_q_values))\n",
    "    for i in range(len(_q_values)):\n",
    "        if _q_values[i] < 1: ### When q_value is less than 1 it means that log(B(tau)/X) was negative value\n",
    "            B_values[i] = X * np.exp(-np.sqrt(_q_values[i]))\n",
    "        else:\n",
    "            B_values[i] = X * np.exp(np.sqrt(_q_values[i]))\n",
    "\n",
    "    return B_values\n",
    "\n"
   ]
  },
  {
   "cell_type": "code",
   "execution_count": 294,
   "metadata": {},
   "outputs": [
    {
     "name": "stdout",
     "output_type": "stream",
     "text": [
      "[100.          92.55238125  80.23115496  70.10034581  64.05178323\n",
      "  62.08739664]\n",
      "[100.          92.55238125  80.23115496  70.10034581  64.05178323\n",
      "  62.08739664]\n"
     ]
    }
   ],
   "source": [
    "## Testing for B to q and then from q to B\n",
    "print(q_to_B(B_to_q(initial_boundary)))\n",
    "print(initial_boundary)"
   ]
  },
  {
   "cell_type": "code",
   "execution_count": 287,
   "metadata": {},
   "outputs": [],
   "source": [
    "## 4.1 initialize_chebyshev_interpolation to compute coefficients a_k\n",
    "\"\"\"\n",
    "Initialize the Chebyshev interpolation by computing the coefficients a_k.\n",
    "\"\"\"\n",
    "def Cheby_interpolant(_q):\n",
    "    \"\"\"\n",
    "    Initialize the Chebyshev interpolation by computing the coefficients a_k.\n",
    "    \n",
    "    Parameters:\n",
    "    - _q (numpy array): The function values at Chebyshev nodes.\n",
    "    \n",
    "    Returns:\n",
    "    - a_coefficients (numpy array): The computed Chebyshev coefficients a_k.\n",
    "    \"\"\"\n",
    "    n = len(_q) - 1  # Assuming _q has n+1 elements\n",
    "    a_coefficients = np.zeros(n + 1)\n",
    "    \n",
    "    term1 = (1/(2*n))*(_q[0]+((-1)**n)*_q[n])\n",
    "\n",
    "    for k in range(n + 1):\n",
    "        sum_value = 0.0\n",
    "        for i in range(1, n):  # This ranges from 1 to n-1\n",
    "            cos_term = np.cos(i * k * np.pi / n)\n",
    "            sum_value += _q[i] * cos_term\n",
    "            \n",
    "        # Correct the formula to include q[n] in the a_k calculation\n",
    "        a_coefficients[k] = term1 + (2 / n) * sum_value\n",
    "\n",
    "    return a_coefficients"
   ]
  },
  {
   "cell_type": "code",
   "execution_count": 291,
   "metadata": {},
   "outputs": [],
   "source": [
    "def clenshaw_algorithm(z, a_coefficients):\n",
    "    \"\"\"\n",
    "    Evaluate the Chebyshev interpolant using the Clenshaw algorithm.\n",
    "\n",
    "    Parameters:\n",
    "    - z (float): The point at which to evaluate the interpolant.\n",
    "    - a_coefficients (numpy array): The Chebyshev coefficients a_k.\n",
    "\n",
    "    Returns:\n",
    "    - qC (float): The evaluated Chebyshev interpolant at z.\n",
    "    \"\"\"\n",
    "    n = len(a_coefficients) - 1  # n is the degree of the polynomial\n",
    "    b_next = 0.0\n",
    "    b_curr = a_coefficients[n]  # Initialize b_n(z)\n",
    "\n",
    "    # Iterate from n-1 down to 1\n",
    "    for k in range(n - 1, 0, -1):\n",
    "        b_temp = b_curr\n",
    "        b_curr = a_coefficients[k] + 2 * z * b_curr - b_next\n",
    "        b_next = b_temp\n",
    "\n",
    "    # Final computation of qC(z)\n",
    "    return a_coefficients[0] + z * b_curr - b_next"
   ]
  },
  {
   "cell_type": "code",
   "execution_count": 293,
   "metadata": {},
   "outputs": [
    {
     "name": "stdout",
     "output_type": "stream",
     "text": [
      "0.0 0.052874902113678235\n",
      "0.0059900507192958115 0.27451944125613753\n",
      "0.04851371024554126 0.1790721066785782\n",
      "0.12619720456489988 0.12458222071011807\n",
      "0.19845093079156076 0.05886495283297416\n",
      "0.2271734595026403 -0.03751821928674336\n"
     ]
    }
   ],
   "source": [
    "### Test for Clenshaw for inpterolation by ensuring that I can obtain q(zi) for the given zi of the intial boundary \n",
    "\n",
    "q = B_to_q(initial_boundary) # obtain the q from intial boundary\n",
    "z_i = cheby.z_nodes # obtain the z_i that we will try to interpolate\n",
    "\n",
    "test_a_coefficients = Cheby_interpolant(B_to_q(initial_boundary)) # obtain a_coefficients that will be used for interpolation\n",
    "\n",
    "for i in range(len(z_i)):\n",
    "    print(q[i], clenshaw_algorithm(z_i[i], test_a_coefficients))"
   ]
  },
  {
   "cell_type": "code",
   "execution_count": 76,
   "metadata": {},
   "outputs": [],
   "source": [
    "## 4.3 Def Interpolation scheme to be used for quadrature later\n",
    "# This means that we would be obtaining for tau - tau(1+y)**2/4\n",
    "\n",
    "def evaluate_boundary(tau_nodes, y_nodes, a_coefficients):\n",
    "    \"\"\"\n",
    "    For each tau_i, evaluate B(tau + y) using Clenshaw algorithm at the adjusted points.\n",
    "\n",
    "    Parameters:\n",
    "    - tau_nodes (numpy array): Array of tau values.\n",
    "    - y_nodes (numpy array): Array of y values.\n",
    "    - a_coefficients (list): Coefficients for the Clenshaw algorithm.\n",
    "\n",
    "    Returns:\n",
    "    - B_values_list (list of numpy arrays): Evaluated boundary values for each tau.\n",
    "    \"\"\"\n",
    "    B_values_list = []\n",
    "\n",
    "    ## For each tau we hope to obtain a series of nodes\n",
    "    for tau in tau_nodes:\n",
    "        qz_interpolated = np.zeros(len(y_nodes))\n",
    "        \n",
    "        # Use the quadrature nodes obtained in the quadacture earlier\n",
    "        for k, y_k in enumerate(y_nodes):\n",
    "            adjusted_tau = max(tau - tau * (1 + y_k)**2 / 4, 0)               # Obtain the adjusted tau for each y_k, but the adjusted tau cannot be negative\n",
    "            z = 2 * np.sqrt(adjusted_tau / np.max(tau_nodes)) - 1             # From the tau obtain the z value\n",
    "            qz_interpolated[k] = max(clenshaw_algorithm(z, a_coefficients),0) # Interpolate qz using the clenshaw algorithm\n",
    "\n",
    "        B_values = np.exp(qz_interpolated**(0.5))*strike                      # q(z) = H(xi) to back out B_value for the z, here just used Strike for X as we assume r=q\n",
    "\n",
    "        B_values_list.append(B_values)\n",
    "\n",
    "    return B_values_list"
   ]
  },
  {
   "cell_type": "code",
   "execution_count": 75,
   "metadata": {},
   "outputs": [
    {
     "name": "stdout",
     "output_type": "stream",
     "text": [
      "0.0\n",
      "0.0\n",
      "0.0\n",
      "0.0\n",
      "0.0\n",
      "0.009098561065933996\n",
      "0.008633036102261297\n",
      "0.0068389703320460345\n",
      "0.0037229352535545473\n",
      "0.0008354449567705719\n",
      "0.11910171059665842\n",
      "0.11300790970912497\n",
      "0.0895232838867434\n",
      "0.04873385515860508\n",
      "0.010936116462775217\n",
      "0.4274386959784934\n",
      "0.4055689319602345\n",
      "0.32128602966795394\n",
      "0.17489870963770493\n",
      "0.0392481294894913\n",
      "0.8163352687842573\n",
      "0.7745677361390804\n",
      "0.6136017161132566\n",
      "0.3340268124655224\n",
      "0.07495725735064318\n",
      "0.9977994446729768\n",
      "0.946747355571419\n",
      "0.75\n",
      "0.408278045465736\n",
      "0.09161959873431291\n"
     ]
    },
    {
     "data": {
      "text/plain": [
       "[array([123.35676519, 123.35676519, 123.35676519, 123.35676519,\n",
       "        123.35676519]),\n",
       " array([142.89933987, 142.44275736, 140.52175518, 136.27342141,\n",
       "        129.61591732]),\n",
       " array([167.68494871, 167.59122094, 166.57923975, 161.01105344,\n",
       "        144.56711327]),\n",
       " array([144.96532164, 146.87192371, 154.66215102, 166.37542234,\n",
       "        158.54146404]),\n",
       " array([135.681186  , 133.93371883, 133.50410771, 153.46580998,\n",
       "        165.28717512]),\n",
       " array([148.5499542 , 144.26474693, 133.19335292, 146.63188336,\n",
       "        166.71813952])]"
      ]
     },
     "execution_count": 75,
     "metadata": {},
     "output_type": "execute_result"
    }
   ],
   "source": [
    "integral_B_Values = evaluate_boundary(tau_nodes, y_nodes, a_coefficients)\n",
    "integral_B_Values"
   ]
  },
  {
   "cell_type": "code",
   "execution_count": 70,
   "metadata": {},
   "outputs": [
    {
     "data": {
      "text/plain": [
       "array([-0.90617985, -0.53846931,  0.        ,  0.53846931,  0.90617985])"
      ]
     },
     "execution_count": 70,
     "metadata": {},
     "output_type": "execute_result"
    }
   ],
   "source": [
    "y_nodes"
   ]
  },
  {
   "cell_type": "code",
   "execution_count": null,
   "metadata": {},
   "outputs": [],
   "source": [
    "# calculate K1 integrad for each tau[i] to be used for quadrature np.sum(weights*integrads) \n",
    "# Need to define d_plus\n",
    "\n",
    "def K1_integrad(tau, B_tau, y, B_y):\n",
    "    term1 = np.exp((-dividend/4)*tau[i]*(1+y[i])**2)*(y[i]+1)\n",
    "    term2 = scipy.stats.norm(d_plus(tau[i]*(1+y[i])**2/4, B_tau[i]/B_y[i]))\n",
    "    return term1*term2"
   ]
  },
  {
   "cell_type": "code",
   "execution_count": null,
   "metadata": {},
   "outputs": [],
   "source": [
    "# calculate K2 integrad for each tau[i] to be used for quadrature np.sum(weights*integrads) \n",
    "\n",
    "def K2_integrad(tau, B_tau, y, B_y):\n",
    "    term1 = np.exp((-dividend/4)*tau[i]*(1+y[i])**2)*(y[i]+1)/sigma\n",
    "    term2 = scipy.stats.norm.cdf(d_plus(tau[i]*(1+y[i])**2/4, B_tau[i]/B_y[i]))\n",
    "    return term1*term2"
   ]
  },
  {
   "cell_type": "code",
   "execution_count": null,
   "metadata": {},
   "outputs": [],
   "source": [
    "# Need to define d_minus\n",
    "\n",
    "def K3_integrad(tau, B_tau, y, B_y):\n",
    "    term1 = np.exp((-dividend/4)*tau[i]*(1+y[i])**2)*(y[i]+1)/sigma\n",
    "    term2 = scipy.stats.norm.cdf(d_plus(tau[i]*(1+y[i])**2/4, B_tau[i]/B_y[i]))\n",
    "    return term1*term2"
   ]
  },
  {
   "cell_type": "code",
   "execution_count": null,
   "metadata": {},
   "outputs": [],
   "source": []
  }
 ],
 "metadata": {
  "kernelspec": {
   "display_name": "Python 3",
   "language": "python",
   "name": "python3"
  },
  "language_info": {
   "codemirror_mode": {
    "name": "ipython",
    "version": 3
   },
   "file_extension": ".py",
   "mimetype": "text/x-python",
   "name": "python",
   "nbconvert_exporter": "python",
   "pygments_lexer": "ipython3",
   "version": "3.10.11"
  }
 },
 "nbformat": 4,
 "nbformat_minor": 2
}
