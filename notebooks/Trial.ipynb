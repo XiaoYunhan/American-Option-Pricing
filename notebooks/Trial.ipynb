{
 "cells": [
  {
   "cell_type": "code",
   "execution_count": 11,
   "metadata": {},
   "outputs": [],
   "source": [
    "import numpy as np\n",
    "from scipy.interpolate import BarycentricInterpolator\n",
    "from scipy.integrate import quad\n",
    "from scipy.stats import norm\n",
    "from chebyshev_interpolator_sj import ChebyshevInterpolation\n",
    "from Option_sj import OptionType\n",
    "from quadrature_nodes_sj import QuadratureNodes\n",
    "from utils import QDplus\n",
    "\n",
    "## Define Variables to being with\n",
    "l = 5\n",
    "n =5\n",
    "max_tau =1 \n",
    "strike = 100\n",
    "riskfree = 0.025\n",
    "dividend = 0.025\n",
    "volatility = 0.25\n",
    "option_type = OptionType.Put\n",
    "X = strike*min(1,riskfree/dividend)\n",
    "initial_boundary = np.zeros(n+1)\n",
    "\n",
    "cheby = ChebyshevInterpolation(5,1)\n",
    "cheby.compute_nodes()\n",
    "tau_nodes = cheby.tau_nodes\n",
    "\n",
    "## 2. compute the Quadrature nodes and weights\n",
    "quadrature = QuadratureNodes(l)\n",
    "quadrature.compute_legendre_nodes()\n",
    "y_nodes, w_weights = quadrature.get_nodes_and_weights()\n",
    "\n",
    "## 3. compute initial boundary using QD Plus\n",
    "a=QDplus(riskfree, dividend, volatility, strike, option_type)\n",
    "for i in range(len(tau_nodes)):\n",
    "    initial_boundary[i] = a.compute_exercise_boundary(tau_nodes[i])\n",
    "\n",
    "###  compute q(_initial_boundary), since H_x = q_z           # Perhaps can be put to Utils \n",
    "def B_to_q(_initial_boundary):\n",
    "    \"\"\"\n",
    "    Compute H(sqrt(tau)) for each collocation point based on the previous boundary values.\n",
    "\n",
    "    Returns:\n",
    "    - H_values (numpy array): The computed H(sqrt(tau)) values.\n",
    "    \"\"\"\n",
    "    q_values = np.square((np.log(_initial_boundary / X)))\n",
    "\n",
    "    return q_values\n",
    "\n",
    "## compute b(_q_values) to obtain the reverse                # Perhaps can be put to Utils \n",
    "def q_to_B(_q_values):\n",
    "    \"\"\"\n",
    "    Given that H_values = q\n",
    "    From q/H_values calculate B\n",
    "\n",
    "    Returns:\n",
    "    - B_values (numpy array): The computed B(tau) values.\n",
    "    \"\"\"\n",
    "    B_values = np.zeros(len(_q_values))\n",
    "    for i in range(len(_q_values)):\n",
    "        if _q_values[i] < 1: ### When q_value is less than 1 it means that log(B(tau)/X) was negative value\n",
    "            B_values[i] = X * np.exp(-np.sqrt(_q_values[i]))\n",
    "        else:\n",
    "            B_values[i] = X * np.exp(np.sqrt(_q_values[i]))\n",
    "\n",
    "    return B_values\n",
    "\n",
    "## 4.1 initialize_chebyshev_interpolation to compute coefficients a_k\n",
    "# Here do note n is 5 and we need to have n+1 nodes \n",
    "def Cheby_interpolant(q):\n",
    "    a = np.zeros(n + 1)\n",
    "    for k in range(n + 1):\n",
    "        ans = 0\n",
    "        for i in range(n + 1):\n",
    "            term = q[i] * np.cos(i * k * np.pi / n)\n",
    "            if i == 0 or i == n:\n",
    "                term *= 0.5\n",
    "            ans += term\n",
    "        ans *= (2.0 / n)\n",
    "        a[k] = ans\n",
    "    return a\n",
    "\n",
    "def clenshaw_algorithm(z, a_coefficients):\n",
    "    \"\"\"\n",
    "    Evaluate the Chebyshev polynomial using Clenshaw's algorithm.\n",
    "\n",
    "    Parameters:\n",
    "    - z (float): The input value to evaluate the polynomial.\n",
    "\n",
    "    Returns:\n",
    "    - (float): The evaluated value of the Chebyshev polynomial.\n",
    "    \"\"\"\n",
    "    b0 = a_coefficients[n] * 0.5\n",
    "    b1 = 0\n",
    "    b2 = 0\n",
    "\n",
    "    for k in range(n - 1, -1, -1):\n",
    "        b1, b2 = b0, b1\n",
    "        b0 = a_coefficients[k] + 2 * z * b1 - b2\n",
    "    return 0.5 * (b0 - b2)\n"
   ]
  },
  {
   "cell_type": "code",
   "execution_count": 12,
   "metadata": {},
   "outputs": [],
   "source": [
    "## Define Variables to being with\n",
    "l = 5\n",
    "n =5\n",
    "max_tau =1 \n",
    "strike = 100\n",
    "riskfree = 0.025\n",
    "dividend = 0.025\n",
    "volatility = 0.25\n",
    "option_type = OptionType.Put\n",
    "X = strike*min(1,riskfree/dividend)\n"
   ]
  },
  {
   "cell_type": "code",
   "execution_count": 13,
   "metadata": {},
   "outputs": [
    {
     "data": {
      "text/plain": [
       "array([1.        , 0.81813562, 0.42838137, 0.11936438, 0.00911863,\n",
       "       0.        ])"
      ]
     },
     "execution_count": 13,
     "metadata": {},
     "output_type": "execute_result"
    }
   ],
   "source": [
    "## 1. Obtain Chebyshev nodes to begin\n",
    "cheby = ChebyshevInterpolation(n,1)\n",
    "cheby.compute_nodes()\n",
    "tau_nodes = cheby.get_nodes()[1]\n",
    "\n",
    "## Fill up rest of the variables\n",
    "initial_boundary = np.zeros(n+1)\n",
    "\n",
    "## print tau_nodes\n",
    "tau_nodes"
   ]
  },
  {
   "cell_type": "code",
   "execution_count": 14,
   "metadata": {},
   "outputs": [],
   "source": [
    "## 2. compute the Quadrature nodes and weights\n",
    "quadrature = QuadratureNodes(l)\n",
    "quadrature.compute_legendre_nodes()\n",
    "y_nodes, w_weights = quadrature.get_nodes_and_weights()"
   ]
  },
  {
   "cell_type": "code",
   "execution_count": 15,
   "metadata": {},
   "outputs": [],
   "source": [
    "## 3. compute initial boundary using QD Plus\n",
    "a=QDplus(riskfree, dividend, volatility, strike, option_type) \n",
    "for i in range(len(tau_nodes)):\n",
    "    initial_boundary[i] = a.compute_exercise_boundary(tau_nodes[i])"
   ]
  },
  {
   "cell_type": "code",
   "execution_count": 16,
   "metadata": {},
   "outputs": [],
   "source": [
    "## compute q(_initial_boundary), since H_x = q_z \n",
    "def B_to_q(_initial_boundary):\n",
    "    \"\"\"\n",
    "    Compute H(sqrt(tau)) for each collocation point based on the previous boundary values.\n",
    "\n",
    "    Returns:\n",
    "    - H_values (numpy array): The computed H(sqrt(tau)) values.\n",
    "    \"\"\"\n",
    "    q_values = (np.log(_initial_boundary / X)) ** 2 \n",
    "\n",
    "    return q_values\n",
    "\n",
    "## compute b(_q_values) to obtain the reverse \n",
    "def q_to_B(_q_values):\n",
    "    \"\"\"\n",
    "    Given that H_values = q\n",
    "    From q/H_values calculate B\n",
    "\n",
    "    Returns:\n",
    "    - B_values (numpy array): The computed B(tau) values.\n",
    "    \"\"\"\n",
    "    B_values = np.zeros(len(_q_values))\n",
    "    for i in range(len(_q_values)):\n",
    "        if _q_values[i] < 1: ### When q_value is less than 1 it means that log(B(tau)/X) was negative value\n",
    "            B_values[i] = X * np.exp(-np.sqrt(_q_values[i]))\n",
    "        else:\n",
    "            B_values[i] = X * np.exp(np.sqrt(_q_values[i]))\n",
    "\n",
    "    return B_values\n",
    "\n"
   ]
  },
  {
   "cell_type": "code",
   "execution_count": 17,
   "metadata": {},
   "outputs": [
    {
     "name": "stdout",
     "output_type": "stream",
     "text": [
      "0.2271734595026403 0.22717345950264034\n",
      "0.19845093079156076 0.19845093079156076\n",
      "0.12619720456489988 0.1261972045648999\n",
      "0.048513710245540284 0.0485137102455403\n",
      "0.005990050719278804 0.005990050719278793\n",
      "0.0 0\n"
     ]
    }
   ],
   "source": [
    "## Test to interpolate the original points\n",
    "\n",
    "a_coefficients = Cheby_interpolant(B_to_q(initial_boundary)) # obtain a_coefficients that will be used for interpolation\n",
    "\n",
    "### Test for Clenshaw for inpterolation by ensuring that q(zi) can be obtained for the given zi of the intial boundary \n",
    "\n",
    "q = B_to_q(initial_boundary) # obtain the H_values (or q values) from intial boundary\n",
    "z_i = cheby.z_nodes # obtain the z_i that we will try to interpolate\n",
    "\n",
    "\n",
    "for i in range(len(z_i)):\n",
    "    print(q[i], max(clenshaw_algorithm(z_i[i], a_coefficients),0))"
   ]
  },
  {
   "cell_type": "code",
   "execution_count": 21,
   "metadata": {},
   "outputs": [],
   "source": [
    "## 4.1 initialize_chebyshev_interpolation to compute coefficients a_k\n",
    "\"\"\"\n",
    "Initialize the Chebyshev interpolation by computing the coefficients a_k.\n",
    "\"\"\"\n",
    "def Cheby_interpolant(_q):\n",
    "    a = np.zeros(n + 1)\n",
    "    for k in range(n + 1):\n",
    "        ans = 0\n",
    "        for i in range(n + 1):\n",
    "            term = q[i] * np.cos(i * k * np.pi / n)\n",
    "            if i == 0:\n",
    "                term *= 0.5\n",
    "            elif i == n:\n",
    "                term *= ((-1)**n)*0.5\n",
    "            ans += term\n",
    "        ans *= (2.0 / n)\n",
    "        a[k] = ans\n",
    "    return a\n",
    "\n",
    "    return a"
   ]
  },
  {
   "cell_type": "code",
   "execution_count": 24,
   "metadata": {},
   "outputs": [],
   "source": [
    "def clenshaw_algorithm(z, a_coefficients):\n",
    "    b0 = a_coefficients[n] * 0.5\n",
    "    b1 = 0\n",
    "    b2 = 0\n",
    "\n",
    "    for k in range(n - 1, -1, -1):\n",
    "        b1, b2 = b0, b1\n",
    "        b0 = a_coefficients[k] + 2 * z * b1 - b2\n",
    "    return 0.5 * (b0 - b2)"
   ]
  },
  {
   "cell_type": "code",
   "execution_count": 26,
   "metadata": {},
   "outputs": [
    {
     "name": "stdout",
     "output_type": "stream",
     "text": [
      "0.2271734595026403 0.22717345950264034\n",
      "0.19845093079156076 0.19845093079156076\n",
      "0.12619720456489988 0.1261972045648999\n",
      "0.048513710245540284 0.0485137102455403\n",
      "0.005990050719278804 0.005990050719278793\n",
      "0.0 0\n"
     ]
    }
   ],
   "source": [
    "### Test for Clenshaw for inpterolation by ensuring that I can obtain q(zi) for the given zi of the intial boundary \n",
    "\n",
    "q = B_to_q(initial_boundary) # obtain the q from intial boundary\n",
    "z_i = cheby.z_nodes # obtain the z_i that we will try to interpolate\n",
    "\n",
    "test_a_coefficients = Cheby_interpolant(B_to_q(initial_boundary)) # obtain a_coefficients that will be used for interpolation\n",
    "\n",
    "for i in range(len(z_i)):\n",
    "    print(q[i], max(clenshaw_algorithm(z_i[i], a_coefficients),0))"
   ]
  },
  {
   "cell_type": "code",
   "execution_count": 27,
   "metadata": {},
   "outputs": [
    {
     "name": "stderr",
     "output_type": "stream",
     "text": [
      "C:\\Users\\sengj\\AppData\\Local\\Temp\\ipykernel_20736\\2396343532.py:25: RuntimeWarning: invalid value encountered in sqrt\n",
      "  B_values[i] = X * np.exp(-np.sqrt(_q_values[i]))\n"
     ]
    },
    {
     "data": {
      "image/png": "[encoded data removed]",
      "text/plain": [
       "<Figure size 1000x600 with 1 Axes>"
      ]
     },
     "metadata": {},
     "output_type": "display_data"
    }
   ],
   "source": [
    "###### Test for the smoothness of the Interpolation \n",
    "\n",
    "import matplotlib.pyplot as plt\n",
    "# Generate points for interpolation\n",
    "x_values = np.linspace(0, max_tau, 100)  # 100 points between min and max of tau_i\n",
    "z_values = ((np.sqrt(x_values)*2)/(np.sqrt(max(tau_nodes))))-1\n",
    "interpolated_values = [clenshaw_algorithm(x, a_coefficients) for x in z_values]\n",
    "\n",
    "interpolated_values = q_to_B(interpolated_values)\n",
    "\n",
    "# Create the plot\n",
    "plt.figure(figsize=(10, 6))\n",
    "\n",
    "# Plot original points\n",
    "plt.scatter(tau_nodes, initial_boundary, color='red', label='Original Points (q)', zorder=5)\n",
    "plt.plot(tau_nodes, initial_boundary, 'ro')  # Optionally draw lines connecting original points\n",
    "\n",
    "# Plot interpolated values\n",
    "plt.plot(x_values, interpolated_values, label='Clenshaw Interpolation', color='blue')\n",
    "\n",
    "# Add labels and title\n",
    "plt.title('Clenshaw Interpolation of Original Points')\n",
    "plt.xlabel('Time to maturity (tau)')\n",
    "plt.ylabel('Interpolated Values')\n",
    "plt.axhline(0, color='black', linewidth=0.5, ls='--')  # Add horizontal line at y=0\n",
    "plt.axvline(0, color='black', linewidth=0.5, ls='--')  # Add vertical line at x=0\n",
    "plt.legend()\n",
    "plt.grid()\n",
    "\n",
    "# Show the plot\n",
    "plt.show()"
   ]
  },
  {
   "cell_type": "code",
   "execution_count": 32,
   "metadata": {},
   "outputs": [],
   "source": [
    "## 4.3 Def Interpolation scheme to be used for quadrature later\n",
    "# This means that we would be obtaining for tau - tau(1+y)**2/4\n",
    "\n",
    "def evaluate_boundary(tau, y_nodes, a_coefficients):\n",
    "\n",
    "    ## For each tau we hope to obtain a series of nodes\n",
    "    qz_interpolated = np.zeros(len(y_nodes))\n",
    "    \n",
    "    # Use the quadrature nodes obtained in the quadacture earlier\n",
    "    for k, y_k in enumerate(y_nodes):\n",
    "        adjusted_tau = tau - tau * (1 + y_k)**2 / 4               # Obtain the adjusted tau for each y_k, but the adjusted tau cannot be negative\n",
    "        z = 2 * np.sqrt(adjusted_tau / max_tau) - 1             # From the tau obtain the z value\n",
    "        qz_interpolated[k] = max(clenshaw_algorithm(z, a_coefficients),0) # Interpolate qz using the clenshaw algorithm\n",
    "\n",
    "    B_values = q_to_B(qz_interpolated)                                    # q(z) = H(xi) to back out B_value for the z\n",
    "\n",
    "    return B_values"
   ]
  },
  {
   "cell_type": "code",
   "execution_count": 33,
   "metadata": {},
   "outputs": [
    {
     "name": "stdout",
     "output_type": "stream",
     "text": [
      "[62.10899705 62.62409379 64.89484897 70.52644006 81.99907998]\n",
      "[64.07322496 64.58317356 66.80917465 72.26902085 83.26065742]\n",
      "[70.1199491  70.58519098 72.59971802 77.47138612 86.85671305]\n",
      "[80.24636743 80.60661848 82.14808983 85.73285894 92.00306561]\n",
      "[92.55879663 92.71006341 93.34339327 94.73552906 96.95755745]\n",
      "[100. 100. 100. 100. 100.]\n"
     ]
    }
   ],
   "source": [
    "## Test Evaluate Boudary\n",
    "\n",
    "for tau in tau_nodes:\n",
    "    print(evaluate_boundary(tau, y_nodes, a_coefficients))"
   ]
  },
  {
   "cell_type": "code",
   "execution_count": 34,
   "metadata": {},
   "outputs": [],
   "source": [
    "# Before Calculating the Integrand ensure that d1 and d2 can be calculated / Also in the option class\n",
    "# riskfree, dividend, strike, volatility should be defined externally, so the funciton depends only on tau and s0\n",
    "def d1(tau, z):\n",
    "    return (np.log(z) + (riskfree - dividend)*tau + 0.5 * volatility * volatility * tau)/(volatility * np.sqrt(tau))\n",
    "\n",
    "def d2(tau, z):\n",
    "    return (np.log(z) + (riskfree - dividend)*tau - 0.5 * volatility * volatility * tau)/(volatility * np.sqrt(tau))"
   ]
  },
  {
   "cell_type": "code",
   "execution_count": 35,
   "metadata": {},
   "outputs": [],
   "source": [
    "# Obtain K1 for each tau(i)\n",
    "\n",
    "def K1_integrad (tau, B, yk_nodes, B_y):\n",
    "    k = len(yk_nodes)\n",
    "    K1integrads = np.zeros(k)\n",
    "\n",
    "    for i,yk in enumerate(yk_nodes):\n",
    "        term0 = 0.25 * tau * (1 + yk)**2\n",
    "        term1 = np.exp(-dividend * term0)\n",
    "        term2 = (1 + yk)\n",
    "        term3 = norm.cdf(d1(term0, B / interpolate_tau(tau - term0)))\n",
    "        # Debugging prints\n",
    "        K1integrads[i] = term1 * term2 * term3\n",
    "    return K1integrads\n",
    "\n",
    "\n",
    "def K1(tau, B_tau, yk, wk):\n",
    "    B_yk = evaluate_boundary(tau, yk, a_coefficients)\n",
    "    integrad = K1_integrad(tau, B_tau, y_nodes, B_yk)\n",
    "    return tau*np.exp(dividend*tau)*0.5*sum(integrad*w_weights)\n",
    "\n"
   ]
  },
  {
   "cell_type": "code",
   "execution_count": 36,
   "metadata": {},
   "outputs": [],
   "source": [
    "def K2_integrad (tau, B_tau, yk_nodes, B_y):\n",
    "    k = len(yk_nodes)\n",
    "    K2integrads = np.zeros(k)\n",
    "   \n",
    "    for i in range(k):\n",
    "        term0 = tau / 4 * (1 + yk_nodes[i])**2\n",
    "        term1 = (np.exp(-dividend * term0))/volatility\n",
    "        term2 = norm.pdf(d1(term0, B_tau/B_y[i]))\n",
    "        K2integrads[i] = term1*term2\n",
    "    return K2integrads\n",
    "\n",
    "def K2(tau, B_tau, y_nodes, w_weights):\n",
    "    B_yk = evaluate_boundary(tau, y_nodes, a_coefficients)\n",
    "    integrad = K2_integrad(tau, B_tau, y_nodes, B_yk)\n",
    "    return tau*np.exp(dividend*tau)*sum(integrad*w_weights)"
   ]
  },
  {
   "cell_type": "code",
   "execution_count": 37,
   "metadata": {},
   "outputs": [],
   "source": [
    "def K3_integrand(tau, B_tau, yk_nodes, B_y):\n",
    "    k = len(yk_nodes)\n",
    "    K3integrads = np.zeros(k)\n",
    "\n",
    "    for i in range(k):\n",
    "        term0 = 0.25 * tau *(1 + yk_nodes[i])**2\n",
    "        term1 = (np.exp(-riskfree * term0))/volatility\n",
    "        term2 = norm.pdf(d2(term0, B_tau/B_y[i]))\n",
    "        K3integrads[i] = term1*term2\n",
    "    return K3integrads\n",
    "\n",
    "def K3(tau, B_tau, y_nodes, w_weights):\n",
    "    B_yk = evaluate_boundary(B_tau, y_nodes, a_coefficients)\n",
    "    integrad = K3_integrand(tau, B_tau, y_nodes, B_yk)\n",
    "    return tau*np.exp(riskfree*tau)*sum(integrad*w_weights)"
   ]
  },
  {
   "cell_type": "code",
   "execution_count": 39,
   "metadata": {},
   "outputs": [],
   "source": [
    "def N(tau, Beta):\n",
    "    return norm.pdf(d2(tau, Beta/strike))/(volatility*np.sqrt(tau)) + riskfree*K3(tau, Beta, y_nodes, w_weights)\n",
    "\n",
    "def D(tau, Beta):\n",
    "    return norm.cdf(d1(tau,Beta/strike)) + norm.pdf(d1(tau, Beta/strike))/(volatility*np.sqrt(tau)) + dividend*(K1(tau, Beta,y_nodes, w_weights) + K2(tau, Beta,y_nodes, w_weights))\n",
    "\n",
    "def f(tau,Beta):\n",
    "    strike*np.exp(-(riskfree-dividend)*tau)*N(tau,Beta,y_nodes, w_weights)/D(tau,Beta,y_nodes, w_weights)\n",
    "\n",
    "## Approximation of NPrime\n",
    "def Nprime(tau,B):\n",
    "    return -d2(tau, B/strike) * norm.pdf(d2(tau, B/strike)) / (B * volatility * volatility * tau)\n",
    "\n",
    "## Approximation of DPrime\n",
    "def DPrime(tau,B):\n",
    "    return -d2(tau, B/strike) * norm.pdf(d1(tau, B/strike)) / (B * volatility * volatility * tau)\n",
    "\n",
    "def fprime(tau,B):\n",
    "    strike*np.exp(-(riskfree-dividend)*tau)*(Nprime(tau,B)/D(tau,B) - DPrime(tau,B)*N(tau,B)/(D(tau,B)**2))"
   ]
  },
  {
   "cell_type": "code",
   "execution_count": 40,
   "metadata": {},
   "outputs": [
    {
     "data": {
      "text/plain": [
       "0.20271452378574326"
      ]
     },
     "execution_count": 40,
     "metadata": {},
     "output_type": "execute_result"
    }
   ],
   "source": [
    "N(tau_nodes[1], initial_boundary[1])"
   ]
  }
 ],
 "metadata": {
  "kernelspec": {
   "display_name": "Python 3",
   "language": "python",
   "name": "python3"
  },
  "language_info": {
   "codemirror_mode": {
    "name": "ipython",
    "version": 3
   },
   "file_extension": ".py",
   "mimetype": "text/x-python",
   "name": "python",
   "nbconvert_exporter": "python",
   "pygments_lexer": "ipython3",
   "version": "3.10.11"
  }
 },
 "nbformat": 4,
 "nbformat_minor": 2
}
