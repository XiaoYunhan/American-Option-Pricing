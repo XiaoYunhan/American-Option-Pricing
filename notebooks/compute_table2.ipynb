{
 "cells": [
  {
   "cell_type": "code",
   "execution_count": 2,
   "id": "85065c2a-4a75-4846-b33e-61120d7b21c0",
   "metadata": {},
   "outputs": [
    {
     "name": "stdout",
     "output_type": "stream",
     "text": [
      "src_path added to sys.path: True\n"
     ]
    }
   ],
   "source": [
    "import sys\n",
    "import os\n",
    "\n",
    "project_root = os.path.abspath(os.path.join(os.getcwd(), '..'))\n",
    "\n",
    "src_path = os.path.join(project_root, 'src')\n",
    "sys.path.insert(0, src_path)  \n",
    "os.chdir(project_root)\n",
    "\n",
    "print(\"src_path added to sys.path:\", src_path in sys.path)"
   ]
  },
  {
   "cell_type": "code",
   "execution_count": 68,
   "id": "02050bfa-5be2-420c-95cf-f803dc185c17",
   "metadata": {},
   "outputs": [],
   "source": [
    "from src.dq_plus import AmericanOptionPricing, QuadratureType\n",
    "from src.Option import OptionType, EuropeanOption\n",
    "\n",
    "import pandas as pd\n",
    "import time"
   ]
  },
  {
   "cell_type": "code",
   "execution_count": 105,
   "id": "828f70fd-8323-482c-b8da-932d75069406",
   "metadata": {},
   "outputs": [],
   "source": [
    "K = 100.       # Strike price\n",
    "S = 100.\n",
    "T = 1.0         # Time to maturity (in years)\n",
    "r = 0.05        # Risk-free interest rate\n",
    "q = 0.05        # Dividend yield\n",
    "sigma = 0.25    # Volatility\n",
    "tau_max = 1.\n",
    "eta = 0.5\n",
    "\n",
    "l,m,n = 201, 16, 64\n",
    "p=15"
   ]
  },
  {
   "cell_type": "code",
   "execution_count": 87,
   "id": "60fde912-9ae3-4d14-8c08-700d43de8059",
   "metadata": {},
   "outputs": [
    {
     "data": {
      "text/plain": [
       "9.462492596167081"
      ]
     },
     "execution_count": 87,
     "metadata": {},
     "output_type": "execute_result"
    }
   ],
   "source": [
    "EuropeanOption.european_put_value(tau_max, K, r, q, sigma, K)"
   ]
  },
  {
   "cell_type": "code",
   "execution_count": 89,
   "id": "cbb9be73-ad6b-48df-8662-83596b6f4daf",
   "metadata": {},
   "outputs": [],
   "source": [
    "l_values = [5, 7, 11, 15, 15, 25, 25, 25, 35, 51, 65]\n",
    "m_values = [1, 2, 2, 2, 3, 4, 5, 6, 8, 8, 8]\n",
    "n_values = [4, 5, 5, 6, 7, 9, 12, 15, 16, 24, 32]\n",
    "p_values = [15, 20, 31, 41, 41, 51, 61, 61, 81, 101, 101]\n",
    "\n",
    "results = []"
   ]
  },
  {
   "cell_type": "code",
   "execution_count": 91,
   "id": "35d9c280-2c17-480f-98f8-276161b55616",
   "metadata": {},
   "outputs": [
    {
     "data": {
      "text/plain": [
       "array([-1.,  0.,  1.])"
      ]
     },
     "execution_count": 91,
     "metadata": {},
     "output_type": "execute_result"
    }
   ],
   "source": [
    "import numpy as np\n",
    "np.linspace(-1, 1, 3)"
   ]
  },
  {
   "cell_type": "code",
   "execution_count": 99,
   "id": "07c801a3-4e96-4c42-ab48-32d91c6644f2",
   "metadata": {
    "scrolled": true
   },
   "outputs": [
    {
     "name": "stdout",
     "output_type": "stream",
     "text": [
      "Starting iteration 1/16\n",
      "Iteration 1/16 completed.\n",
      "Starting iteration 2/16\n",
      "Iteration 2/16 completed.\n",
      "Starting iteration 3/16\n",
      "Iteration 3/16 completed.\n",
      "Starting iteration 4/16\n",
      "Iteration 4/16 completed.\n",
      "Starting iteration 5/16\n",
      "Iteration 5/16 completed.\n",
      "Starting iteration 6/16\n",
      "Iteration 6/16 completed.\n",
      "Starting iteration 7/16\n",
      "Iteration 7/16 completed.\n",
      "Starting iteration 8/16\n",
      "Iteration 8/16 completed.\n",
      "Starting iteration 9/16\n",
      "Iteration 9/16 completed.\n",
      "Starting iteration 10/16\n",
      "Iteration 10/16 completed.\n",
      "Starting iteration 11/16\n",
      "Iteration 11/16 completed.\n",
      "Starting iteration 12/16\n",
      "Iteration 12/16 completed.\n",
      "Starting iteration 13/16\n",
      "Iteration 13/16 completed.\n",
      "Starting iteration 14/16\n",
      "Iteration 14/16 completed.\n",
      "Starting iteration 15/16\n",
      "Iteration 15/16 completed.\n",
      "Starting iteration 16/16\n",
      "Iteration 16/16 completed.\n",
      "Jacobi-Newton iterations completed.\n"
     ]
    },
    {
     "data": {
      "text/plain": [
       "0.10696419534858481"
      ]
     },
     "execution_count": 99,
     "metadata": {},
     "output_type": "execute_result"
    }
   ],
   "source": [
    "# benchmark\n",
    "benchmark = AmericanOptionPricing(\n",
    "        K=K,\n",
    "        r=r,\n",
    "        q=q,\n",
    "        vol=sigma,\n",
    "        tau_max=tau_max,\n",
    "        n=n,\n",
    "        l=l,\n",
    "        p=p,\n",
    "        m=m,\n",
    "        option_type=OptionType.Put,\n",
    "        quadrature_type=QuadratureType.tanh_sinh,\n",
    "        eta=0.5\n",
    "    )\n",
    "benchmark.run_full_algorithm()\n",
    "benchmark.compute_pricing_points()\n",
    "benchmark.compute_option_pricing(S=100)\n",
    "benchmark_premium = benchmark.compute_option_pricing(S=100)[1]\n",
    "\n",
    "benchmark_premium"
   ]
  },
  {
   "cell_type": "code",
   "execution_count": 109,
   "id": "cb31441b-62ba-4f23-a30e-2cf4febf3df7",
   "metadata": {
    "scrolled": true
   },
   "outputs": [
    {
     "name": "stdout",
     "output_type": "stream",
     "text": [
      "Starting iteration 1/1\n",
      "Iteration 1/1 completed.\n",
      "Jacobi-Newton iterations completed.\n",
      "Starting iteration 1/2\n",
      "Iteration 1/2 completed.\n",
      "Starting iteration 2/2\n",
      "Iteration 2/2 completed.\n",
      "Jacobi-Newton iterations completed.\n",
      "Starting iteration 1/2\n",
      "Iteration 1/2 completed.\n",
      "Starting iteration 2/2\n",
      "Iteration 2/2 completed.\n",
      "Jacobi-Newton iterations completed.\n",
      "Starting iteration 1/2\n",
      "Iteration 1/2 completed.\n",
      "Starting iteration 2/2\n",
      "Iteration 2/2 completed.\n",
      "Jacobi-Newton iterations completed.\n",
      "Starting iteration 1/3\n",
      "Iteration 1/3 completed.\n",
      "Starting iteration 2/3\n",
      "Iteration 2/3 completed.\n",
      "Starting iteration 3/3\n",
      "Iteration 3/3 completed.\n",
      "Jacobi-Newton iterations completed.\n",
      "Starting iteration 1/4\n",
      "Iteration 1/4 completed.\n",
      "Starting iteration 2/4\n",
      "Iteration 2/4 completed.\n",
      "Starting iteration 3/4\n",
      "Iteration 3/4 completed.\n",
      "Starting iteration 4/4\n",
      "Iteration 4/4 completed.\n",
      "Jacobi-Newton iterations completed.\n",
      "Starting iteration 1/5\n",
      "Iteration 1/5 completed.\n",
      "Starting iteration 2/5\n",
      "Iteration 2/5 completed.\n",
      "Starting iteration 3/5\n",
      "Iteration 3/5 completed.\n",
      "Starting iteration 4/5\n",
      "Iteration 4/5 completed.\n",
      "Starting iteration 5/5\n",
      "Iteration 5/5 completed.\n",
      "Jacobi-Newton iterations completed.\n",
      "Starting iteration 1/6\n",
      "Iteration 1/6 completed.\n",
      "Starting iteration 2/6\n",
      "Iteration 2/6 completed.\n",
      "Starting iteration 3/6\n",
      "Iteration 3/6 completed.\n",
      "Starting iteration 4/6\n",
      "Iteration 4/6 completed.\n",
      "Starting iteration 5/6\n",
      "Iteration 5/6 completed.\n",
      "Starting iteration 6/6\n",
      "Iteration 6/6 completed.\n",
      "Jacobi-Newton iterations completed.\n",
      "Starting iteration 1/8\n",
      "Iteration 1/8 completed.\n",
      "Starting iteration 2/8\n",
      "Iteration 2/8 completed.\n",
      "Starting iteration 3/8\n",
      "Iteration 3/8 completed.\n",
      "Starting iteration 4/8\n",
      "Iteration 4/8 completed.\n",
      "Starting iteration 5/8\n",
      "Iteration 5/8 completed.\n",
      "Starting iteration 6/8\n",
      "Iteration 6/8 completed.\n",
      "Starting iteration 7/8\n",
      "Iteration 7/8 completed.\n",
      "Starting iteration 8/8\n",
      "Iteration 8/8 completed.\n",
      "Jacobi-Newton iterations completed.\n",
      "Starting iteration 1/8\n",
      "Iteration 1/8 completed.\n",
      "Starting iteration 2/8\n",
      "Iteration 2/8 completed.\n",
      "Starting iteration 3/8\n",
      "Iteration 3/8 completed.\n",
      "Starting iteration 4/8\n",
      "Iteration 4/8 completed.\n",
      "Starting iteration 5/8\n",
      "Iteration 5/8 completed.\n",
      "Starting iteration 6/8\n",
      "Iteration 6/8 completed.\n",
      "Starting iteration 7/8\n",
      "Iteration 7/8 completed.\n",
      "Starting iteration 8/8\n",
      "Iteration 8/8 completed.\n",
      "Jacobi-Newton iterations completed.\n",
      "Starting iteration 1/8\n",
      "Iteration 1/8 completed.\n",
      "Starting iteration 2/8\n",
      "Iteration 2/8 completed.\n",
      "Starting iteration 3/8\n",
      "Iteration 3/8 completed.\n",
      "Starting iteration 4/8\n",
      "Iteration 4/8 completed.\n",
      "Starting iteration 5/8\n",
      "Iteration 5/8 completed.\n",
      "Starting iteration 6/8\n",
      "Iteration 6/8 completed.\n",
      "Starting iteration 7/8\n",
      "Iteration 7/8 completed.\n",
      "Starting iteration 8/8\n",
      "Iteration 8/8 completed.\n",
      "Jacobi-Newton iterations completed.\n"
     ]
    }
   ],
   "source": [
    "for l, m, n, p in zip(l_values, m_values, n_values, p_values):\n",
    "    if l == 5 or l == 7:\n",
    "        solver = AmericanOptionPricing(\n",
    "            K=K,\n",
    "            r=r,\n",
    "            q=q,\n",
    "            vol=sigma,\n",
    "            tau_max=tau_max,\n",
    "            n=n,\n",
    "            l=l,\n",
    "            p=p,\n",
    "            m=m,\n",
    "            option_type=OptionType.Put,\n",
    "            quadrature_type=QuadratureType.Gauss_Legendre,\n",
    "            eta=eta\n",
    "        )\n",
    "    else:\n",
    "        solver = AmericanOptionPricing(\n",
    "            K=K,\n",
    "            r=r,\n",
    "            q=q,\n",
    "            vol=sigma,\n",
    "            tau_max=tau_max,\n",
    "            n=n,\n",
    "            l=l,\n",
    "            p=p,\n",
    "            m=m,\n",
    "            option_type=OptionType.Put,\n",
    "            quadrature_type=QuadratureType.tanh_sinh,\n",
    "            eta=eta\n",
    "        )\n",
    "\n",
    "    start_time = time.time()\n",
    "\n",
    "    solver.run_full_algorithm()\n",
    "    solver.compute_pricing_points()\n",
    "    solver.compute_option_pricing(S=S)\n",
    "    premium = solver.compute_option_pricing(S=S)[1]\n",
    "\n",
    "    end_time = time.time()\n",
    "\n",
    "    cpu_seconds = end_time - start_time\n",
    "\n",
    "    relative_error = abs(premium - benchmark_premium) / benchmark_premium\n",
    "    results.append([f\"({l},{m},{n})\", p, premium, relative_error, cpu_seconds])\n",
    "\n",
    "df = pd.DataFrame(results, columns=[\"(l,m,n)\", \"p\", \"American Premium\", \"Relative Error\", \"CPU Seconds\"])\n"
   ]
  },
  {
   "cell_type": "code",
   "execution_count": null,
   "id": "6881e5e7-16a2-4995-a94c-fc1e74b6f2c1",
   "metadata": {},
   "outputs": [],
   "source": [
    "df"
   ]
  },
  {
   "cell_type": "code",
   "execution_count": null,
   "id": "8c970c37-a214-4a61-b1d6-cdef1027dc9a",
   "metadata": {},
   "outputs": [],
   "source": []
  }
 ],
 "metadata": {
  "kernelspec": {
   "display_name": "Python 3 (ipykernel)",
   "language": "python",
   "name": "python3"
  },
  "language_info": {
   "codemirror_mode": {
    "name": "ipython",
    "version": 3
   },
   "file_extension": ".py",
   "mimetype": "text/x-python",
   "name": "python",
   "nbconvert_exporter": "python",
   "pygments_lexer": "ipython3",
   "version": "3.12.2"
  }
 },
 "nbformat": 4,
 "nbformat_minor": 5
}
