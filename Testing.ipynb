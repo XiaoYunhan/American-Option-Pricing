{
 "cells": [
  {
   "cell_type": "code",
   "execution_count": 8,
   "metadata": {},
   "outputs": [],
   "source": [
    "from src.dq_plus import AmericanOptionPricing\n",
    "from src.Option import OptionType"
   ]
  },
  {
   "cell_type": "code",
   "execution_count": 34,
   "metadata": {},
   "outputs": [],
   "source": [
    "test1 = AmericanOptionPricing(100, 0.05, 0.05, 0.25, 1, 25, 4, 9, 51, option_type=OptionType.Put,eta=0.8)"
   ]
  },
  {
   "cell_type": "code",
   "execution_count": 35,
   "metadata": {},
   "outputs": [
    {
     "name": "stdout",
     "output_type": "stream",
     "text": [
      "Starting iteration 1/4\n",
      "Iteration 1/4 completed.\n",
      "Starting iteration 2/4\n",
      "Iteration 2/4 completed.\n",
      "Starting iteration 3/4\n",
      "Iteration 3/4 completed.\n",
      "Starting iteration 4/4\n",
      "Iteration 4/4 completed.\n",
      "Jacobi-Newton iterations completed.\n"
     ]
    }
   ],
   "source": [
    "test1.run_full_algorithm()\n",
    "#test1.run_once()"
   ]
  },
  {
   "cell_type": "code",
   "execution_count": 15,
   "metadata": {},
   "outputs": [
    {
     "data": {
      "text/plain": [
       "array([ 61.24225892,  61.27712165,  61.38204477,  61.55803   ,\n",
       "        61.80673573,  62.13045962,  62.53211128,  63.01517446,\n",
       "        63.58365337,  64.24200295,  64.995034  ,  65.84779433,\n",
       "        66.80541202,  67.87290423,  69.05493176,  70.35550743,\n",
       "        71.77763053,  73.32286494,  74.99082224,  76.77858653,\n",
       "        78.68002539,  80.68506055,  82.77881187,  84.940758  ,\n",
       "        87.14375634,  89.35320157,  91.52597224,  93.60973108,\n",
       "        95.54162409,  97.24761131,  98.63915229,  99.60889207,\n",
       "       100.        ])"
      ]
     },
     "execution_count": 15,
     "metadata": {},
     "output_type": "execute_result"
    }
   ],
   "source": [
    "test1.updateded_boundary"
   ]
  },
  {
   "cell_type": "code",
   "execution_count": 36,
   "metadata": {},
   "outputs": [],
   "source": [
    "test1.compute_pricing_points()"
   ]
  },
  {
   "cell_type": "code",
   "execution_count": 37,
   "metadata": {},
   "outputs": [
    {
     "data": {
      "text/plain": [
       "(9.462492596167081, 0.10696407630320409)"
      ]
     },
     "execution_count": 37,
     "metadata": {},
     "output_type": "execute_result"
    }
   ],
   "source": [
    "test1.compute_option_pricing(100)"
   ]
  }
 ],
 "metadata": {
  "kernelspec": {
   "display_name": "Python 3",
   "language": "python",
   "name": "python3"
  },
  "language_info": {
   "codemirror_mode": {
    "name": "ipython",
    "version": 3
   },
   "file_extension": ".py",
   "mimetype": "text/x-python",
   "name": "python",
   "nbconvert_exporter": "python",
   "pygments_lexer": "ipython3",
   "version": "3.10.11"
  }
 },
 "nbformat": 4,
 "nbformat_minor": 2
}
