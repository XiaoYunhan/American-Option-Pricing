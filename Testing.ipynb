{
 "cells": [
  {
   "cell_type": "code",
   "execution_count": 2,
   "metadata": {},
   "outputs": [],
   "source": [
    "from src.dq_plus import AmericanOptionPricing\n",
    "from src.Option import OptionType"
   ]
  },
  {
   "cell_type": "code",
   "execution_count": 3,
   "metadata": {},
   "outputs": [],
   "source": [
    "test1 = AmericanOptionPricing(100, 0.025, 0.025, 0.25, 1, 10, 15,option_type=OptionType.Put,eta=0.5)"
   ]
  },
  {
   "cell_type": "code",
   "execution_count": 4,
   "metadata": {},
   "outputs": [
    {
     "name": "stdout",
     "output_type": "stream",
     "text": [
      "Jacobi-Newton iterations completed.\n",
      "[ 61.49983948  61.90202814  63.12973443  65.23842875  68.29350105\n",
      "  72.33045221  77.30132575  83.03118849  89.25971427  95.73561161\n",
      " 100.        ]\n"
     ]
    }
   ],
   "source": [
    "test1.run_once()"
   ]
  },
  {
   "cell_type": "code",
   "execution_count": 5,
   "metadata": {},
   "outputs": [
    {
     "name": "stdout",
     "output_type": "stream",
     "text": [
      "Starting iteration 1/10\n",
      "Iteration 1/10 completed.\n",
      "Starting iteration 2/10\n",
      "Iteration 2/10 completed.\n",
      "Starting iteration 3/10\n",
      "Iteration 3/10 completed.\n",
      "Starting iteration 4/10\n",
      "Iteration 4/10 completed.\n",
      "Starting iteration 5/10\n",
      "Iteration 5/10 completed.\n",
      "Starting iteration 6/10\n",
      "Iteration 6/10 completed.\n",
      "Starting iteration 7/10\n",
      "Iteration 7/10 completed.\n",
      "Starting iteration 8/10\n",
      "Iteration 8/10 completed.\n",
      "Starting iteration 9/10\n",
      "Iteration 9/10 completed.\n",
      "Starting iteration 10/10\n",
      "Iteration 10/10 completed.\n",
      "Jacobi-Newton iterations completed.\n"
     ]
    }
   ],
   "source": [
    "test1.run_full_algorithm()"
   ]
  },
  {
   "cell_type": "code",
   "execution_count": 6,
   "metadata": {},
   "outputs": [
    {
     "data": {
      "text/plain": [
       "array([ 61.2075653 ,  61.52668244,  62.53737023,  64.38499353,\n",
       "        67.27802552,  71.40766386,  76.87154055,  83.45660361,\n",
       "        90.38381286,  94.43989948, 100.        ])"
      ]
     },
     "execution_count": 6,
     "metadata": {},
     "output_type": "execute_result"
    }
   ],
   "source": [
    "test1.updateded_boundary"
   ]
  },
  {
   "cell_type": "code",
   "execution_count": 14,
   "metadata": {},
   "outputs": [
    {
     "name": "stdout",
     "output_type": "stream",
     "text": [
      "Jacobi-Newton iterations completed.\n",
      "[ 61.20951883  61.52816165  62.53772039  64.3837907   67.27601203\n",
      "  71.40508714  76.87015086  83.45701518  90.37601681  94.42164035\n",
      " 100.        ]\n"
     ]
    }
   ],
   "source": [
    "test1.manual_update()"
   ]
  }
 ],
 "metadata": {
  "kernelspec": {
   "display_name": "Python 3",
   "language": "python",
   "name": "python3"
  },
  "language_info": {
   "codemirror_mode": {
    "name": "ipython",
    "version": 3
   },
   "file_extension": ".py",
   "mimetype": "text/x-python",
   "name": "python",
   "nbconvert_exporter": "python",
   "pygments_lexer": "ipython3",
   "version": "3.10.11"
  }
 },
 "nbformat": 4,
 "nbformat_minor": 2
}
