{
 "cells": [
  {
   "cell_type": "code",
   "execution_count": 1,
   "metadata": {},
   "outputs": [],
   "source": [
    "from src.dq_plus import AmericanOptionPricing\n",
    "from src.Option import OptionType"
   ]
  },
  {
   "cell_type": "code",
   "execution_count": 6,
   "metadata": {},
   "outputs": [],
   "source": [
    "test1 = AmericanOptionPricing(100, 0.05, 0.05, 0.25, 1, 25, 5, 12, 61, option_type=OptionType.Put,eta=0.8)"
   ]
  },
  {
   "cell_type": "code",
   "execution_count": 8,
   "metadata": {},
   "outputs": [
    {
     "name": "stdout",
     "output_type": "stream",
     "text": [
      "Starting iteration 1/5\n",
      "Iteration 1/5 completed.\n",
      "Starting iteration 2/5\n",
      "Iteration 2/5 completed.\n",
      "Starting iteration 3/5\n",
      "Iteration 3/5 completed.\n",
      "Starting iteration 4/5\n",
      "Iteration 4/5 completed.\n",
      "Starting iteration 5/5\n",
      "Iteration 5/5 completed.\n",
      "Jacobi-Newton iterations completed.\n"
     ]
    }
   ],
   "source": [
    "test1.run_full_algorithm()\n",
    "#test1.run_once()"
   ]
  },
  {
   "cell_type": "code",
   "execution_count": 9,
   "metadata": {},
   "outputs": [],
   "source": [
    "test1.compute_pricing_points()"
   ]
  },
  {
   "cell_type": "code",
   "execution_count": 10,
   "metadata": {},
   "outputs": [
    {
     "data": {
      "text/plain": [
       "(9.462492596167081, 0.10695523378736016)"
      ]
     },
     "execution_count": 10,
     "metadata": {},
     "output_type": "execute_result"
    }
   ],
   "source": [
    "test1.compute_option_pricing(100)"
   ]
  }
 ],
 "metadata": {
  "kernelspec": {
   "display_name": "Python 3",
   "language": "python",
   "name": "python3"
  },
  "language_info": {
   "codemirror_mode": {
    "name": "ipython",
    "version": 3
   },
   "file_extension": ".py",
   "mimetype": "text/x-python",
   "name": "python",
   "nbconvert_exporter": "python",
   "pygments_lexer": "ipython3",
   "version": "3.10.11"
  }
 },
 "nbformat": 4,
 "nbformat_minor": 2
}
